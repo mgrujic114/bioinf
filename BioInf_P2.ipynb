{
  "cells": [
    {
      "cell_type": "code",
      "execution_count": 1,
      "metadata": {
        "id": "SHkVD_MxKlBM",
        "colab": {
          "base_uri": "https://localhost:8080/"
        },
        "outputId": "26da0cfd-61a0-4f89-d547-4e03215c2a55"
      },
      "outputs": [
        {
          "output_type": "stream",
          "name": "stdout",
          "text": [
            "Mounted at /content/drive\n"
          ]
        }
      ],
      "source": [
        "from google.colab import drive\n",
        "drive.mount('/content/drive')"
      ]
    },
    {
      "cell_type": "markdown",
      "metadata": {
        "id": "Xp3RvbH8ClNV"
      },
      "source": [
        "# Projekat 2\n",
        "\n",
        "**Rok za predaju je 07.06.2024 do kraja dana. Projekti se predaju preko github classroom sistema: [link](https://classroom.github.com/a/x_OQbdg_)** .\n",
        "\n",
        "Napomene:\n",
        "- U projektu je potrebno da se nalaze:\n",
        "  - .ipynb fajl sa analizom\n",
        "  - README.md fajl u kojm navesti:\n",
        "    - Imena studenata\n",
        "    - Da li je su urađene sve tačke, i ako nisu šta nije urađeno\n",
        "    - Da li je i na koji način korišćena pomoć AI alata  \n",
        "    (što je dozvoljeno, ali se od studenata očekuje da razumeju i mogu da objasne sve što su dobili kao odgovor)\n",
        "  - Nije potrebno uploadovati podakte (vcf fajl)\n",
        "- U .ipynb fajlu, prilikom dodavanja na git:\n",
        "  - Ćelije koje sadrže grafikone, tabele i druge ispise rezultata ostaviti izvršene (tako da se vide rezultati)\n",
        "  - Ćelije koje služe za instalaciju alata i biblioteka očistiti\n",
        "  - Ćelije koje sadrže (duže) ispise alata očistiti\n",
        "\n",
        "\n",
        "# Postavka\n",
        "\n",
        "Dati su FASTQ fajlovi koji su rezultat sekvenciranja dela exoma koji se nalazi na hromozomu 11 (podaci su uzeti iz uzoraka 1000 Genomes projekta).\n",
        "\n",
        "Projekat je moguće raditi pojedinačno ili u paru. Ukoliko se projekat radi u paru, svako treba da obradi podatke iz dodeljenog eksperimenta koji, a rad u paru se odnosi na programski kod i šablon za tekstualni izveštaj."
      ]
    },
    {
      "cell_type": "markdown",
      "metadata": {
        "id": "r2A1iVySBgXJ"
      },
      "source": [
        "# 1. [2 boda]\n",
        "Izvršiti kontrolu kvaliteta FASTQ fajlova alatom FastQC. Priložiti .izvrštaj i diskutovati rezultate (da li je neki od kriterijuma koje analizira FastQC označen kao problematičan, i šta taj kriterijum znači?)"
      ]
    },
    {
      "cell_type": "code",
      "execution_count": null,
      "metadata": {
        "id": "4N_J2DAjxQ12",
        "collapsed": true
      },
      "outputs": [],
      "source": [
        "!apt-get install fastqc"
      ]
    },
    {
      "cell_type": "code",
      "execution_count": null,
      "metadata": {
        "id": "cszWOt-dRUGl"
      },
      "outputs": [],
      "source": [
        "!fastqc /content/drive/MyDrive/sample_21.chrom11.exome.pe1.fq"
      ]
    },
    {
      "cell_type": "code",
      "execution_count": null,
      "metadata": {
        "id": "y1FA8xPJRh8R",
        "collapsed": true
      },
      "outputs": [],
      "source": [
        "!fastqc /content/drive/MyDrive/sample_21.chrom11.exome.pe2.fq"
      ]
    },
    {
      "cell_type": "markdown",
      "metadata": {
        "id": "0a3XEjmDS7wF"
      },
      "source": [
        "Označeni su delovi: *per base sequence content*, *per sequence GC content* i *sequence length distribution*\n",
        "\n",
        "**per base sequence content**\n",
        "\n",
        "Ovaj modul izučava proporcije svih nukleotida (A, C, G, T) na pozicijama koje isčitava. Idealno, proporcije svake baze bi trebalo da su manje-više konstantne.\n",
        "\n",
        "**per sequence GC content**\n",
        "\n",
        "Ovaj modul računa raspoodelu GC parova na svim čitanjima. Idealno, raspodela bi trebalo da bude približna normalnoj.\n",
        "\n",
        "**sequence length distribution**\n",
        "\n",
        "Ovaj modul prikazuje raspodelu očitanih dužina u podacima. Idealno, očitavanja bi bila uniformno raspoređena sa jednim vrhom."
      ]
    },
    {
      "cell_type": "markdown",
      "metadata": {
        "id": "NwCSx28fBns9"
      },
      "source": [
        "# 2. [3 boda]\n",
        "Mapirati sekvencirane readove na referentni genom hg38 upotrebom alata BWA Mem. Upotrebom python biblioteke pysam odrediti sledeće:\n",
        "\n",
        " 2a. Koliko je readova uspešno mapirano?\n",
        "\n",
        " 2b. Koliko je parova readova mapirano tako da su oba para mapirana?\n",
        "\n",
        " 2c. Nacrtati histogram dužina sekvenciranih fragmenata (*template_length*)."
      ]
    },
    {
      "cell_type": "code",
      "execution_count": null,
      "metadata": {
        "id": "qlR2e8ULXvcz"
      },
      "outputs": [],
      "source": [
        "!apt-get update\n",
        "!apt-get install -y bwa\n",
        "!apt-get install -y samtools\n",
        "!mkdir -p bwa_mapping\n",
        "%cd bwa_mapping\n",
        "!wget ftp://ftp.ebi.ac.uk/pub/databases/gencode/Gencode_human/release_38/GRCh38.primary_assembly.genome.fa.gz\n",
        "!gunzip GRCh38.primary_assembly.genome.fa.gz\n",
        "!samtools faidx GRCh38.primary_assembly.genome.fa chr11 > chr11.fa\n",
        "!bwa index chr11.fa"
      ]
    },
    {
      "cell_type": "code",
      "execution_count": null,
      "metadata": {
        "id": "jPIxffsjbPeG"
      },
      "outputs": [],
      "source": [
        "!bwa mem chr11.fa /content/drive/MyDrive/sample_21.chrom11.exome.pe1.fq /content/drive/MyDrive/sample_21.chrom11.exome.pe2.fq > mapped_reads_chr11.sam"
      ]
    },
    {
      "cell_type": "code",
      "execution_count": null,
      "metadata": {
        "id": "bF1kh4DNfWP-"
      },
      "outputs": [],
      "source": [
        "!samtools view -b -o mapped_reads_chr11.bam mapped_reads_chr11.sam\n",
        "!samtools sort -o mapped_reads_chr11.sorted.bam mapped_reads_chr11.bam\n",
        "!samtools index mapped_reads_chr11.sorted.bam"
      ]
    },
    {
      "cell_type": "code",
      "source": [
        "!pip install pysam"
      ],
      "metadata": {
        "id": "cewaHHl4pYp0"
      },
      "execution_count": null,
      "outputs": []
    },
    {
      "cell_type": "code",
      "execution_count": 9,
      "metadata": {
        "colab": {
          "base_uri": "https://localhost:8080/"
        },
        "id": "6eftv_sbtMbE",
        "outputId": "5673c54d-0122-4fa6-91db-fe0bee363d41"
      },
      "outputs": [
        {
          "output_type": "stream",
          "name": "stdout",
          "text": [
            "Broj uspešno mapiranih redova: 8883186\n"
          ]
        }
      ],
      "source": [
        "import pysam\n",
        "mapped_reads = sum(read.is_mapped for read in pysam.AlignmentFile('mapped_reads_chr11.sorted.bam'))\n",
        "\n",
        "print(\"Broj uspešno mapiranih redova:\", mapped_reads)"
      ]
    },
    {
      "cell_type": "code",
      "source": [
        "import pysam\n",
        "bam_file = pysam.AlignmentFile('mapped_reads_chr11.sorted.bam', 'rb')\n",
        "mapped_pairs = sum(1 for read in bam_file if read.is_proper_pair and not read.is_unmapped and not read.mate_is_unmapped)\n",
        "\n",
        "print(\"Broj uspešno mapiranih uparenih redova:\", mapped_pairs)"
      ],
      "metadata": {
        "id": "I9DKeOn6pwZ_",
        "colab": {
          "base_uri": "https://localhost:8080/"
        },
        "outputId": "d35393aa-9de4-4560-a755-972492c2e191"
      },
      "execution_count": 10,
      "outputs": [
        {
          "output_type": "stream",
          "name": "stdout",
          "text": [
            "Broj uspešno mapiranih uparenih redova: 8803858\n"
          ]
        }
      ]
    },
    {
      "cell_type": "code",
      "execution_count": 11,
      "metadata": {
        "id": "Z0JuueeRwGdD",
        "colab": {
          "base_uri": "https://localhost:8080/",
          "height": 565
        },
        "outputId": "1f2756aa-3590-4d94-ea3d-7d848427a85d"
      },
      "outputs": [
        {
          "output_type": "display_data",
          "data": {
            "text/plain": [
              "<Figure size 1000x600 with 1 Axes>"
            ],
            "image/png": "[encoded data removed]"
          },
          "metadata": {}
        }
      ],
      "source": [
        "import matplotlib.pyplot as plt\n",
        "\n",
        "template_lengths = []\n",
        "\n",
        "with pysam.AlignmentFile('mapped_reads_chr11.sorted.bam', 'rb') as bam:\n",
        "    for read in bam.fetch():\n",
        "        if read.is_paired and read.is_proper_pair:\n",
        "\n",
        "            template_lengths.append(abs(read.template_length))\n",
        "\n",
        "\n",
        "plt.figure(figsize=(10, 6))\n",
        "plt.hist(template_lengths, bins=50, color='blue', alpha=0.7)\n",
        "plt.title('Histogram dužina sekvenciranih fragmenata')\n",
        "plt.xlabel('Dužina sekvenciranog fragmenta')\n",
        "plt.ylabel('Broj fragmenata')\n",
        "plt.grid(True)\n",
        "plt.show()"
      ]
    },
    {
      "cell_type": "markdown",
      "metadata": {
        "id": "aYwQr0uUBx01"
      },
      "source": [
        "# 3. [4 boda]\n",
        "Izvršiti obradu dobijenog BAM fajla prema GATK protokolu (Markiranje Duplikata, rekalibracija kvaliteta baza)\n",
        "3a. Koliki su procenati PCR i optičkih duplikata?"
      ]
    },
    {
      "cell_type": "code",
      "execution_count": null,
      "metadata": {
        "id": "JeL95Jt9SeXr"
      },
      "outputs": [],
      "source": [
        "!pip install crcmod"
      ]
    },
    {
      "cell_type": "code",
      "execution_count": null,
      "metadata": {
        "id": "TGY9wfcZSgVi"
      },
      "outputs": [],
      "source": [
        "### picard\n",
        "!wget https://github.com/broadinstitute/picard/releases/download/2.21.6/picard.jar\n",
        "\n",
        "### GATK\n",
        "!wget -O gatk-4.1.4.1.zip \"https://github.com/broadinstitute/gatk/releases/download/4.1.4.1/gatk-4.1.4.1.zip\"\n",
        "!unzip gatk-4.1.4.1.zip\n",
        "!R -e 'install.packages(c(\"gplots\", \"gsalib\"))'"
      ]
    },
    {
      "cell_type": "code",
      "execution_count": null,
      "metadata": {
        "id": "A1MWER92SjGd"
      },
      "outputs": [],
      "source": [
        "# Instaliranje rpy2 biblioteke\n",
        "!pip install rpy2\n",
        "\n",
        "# Uvoz rpy2 modula\n",
        "import rpy2.robjects.packages as rpackages\n",
        "from rpy2.robjects.vectors import StrVector\n",
        "\n",
        "# Liste paketa\n",
        "packnames = ['gplots', 'ggplot2', 'gsalib', 'reshape']\n",
        "\n",
        "# Instalacija paketa\n",
        "utils = rpackages.importr('utils')\n",
        "utils.chooseCRANmirror(ind=1)\n",
        "utils.install_packages(StrVector(packnames))"
      ]
    },
    {
      "cell_type": "code",
      "execution_count": 15,
      "metadata": {
        "colab": {
          "base_uri": "https://localhost:8080/"
        },
        "id": "g3vSSS8NSmRs",
        "outputId": "03bf109b-2197-40e2-a28a-ce8a494bd72f",
        "collapsed": true
      },
      "outputs": [
        {
          "output_type": "stream",
          "name": "stdout",
          "text": [
            "ERR250624.8406470 False 214 60032 100 False\n",
            "ERR250624.8406470 True -214 60146 100 True\n",
            "ERR250623.3262607 True 193 60256 100 False\n",
            "ERR250623.4934491 True 193 60256 100 False\n",
            "ERR250624.41378762 True 370 60264 100 False\n",
            "ERR250624.28410089 False 189 60348 100 False\n",
            "ERR250623.3262607 False -193 60349 100 True\n",
            "ERR250623.4934491 False -193 60349 100 True\n",
            "ERR250624.28410089 True -189 60437 100 True\n",
            "ERR250624.41378762 False -370 60534 100 True\n",
            "ERR250624.13508378 True 178 60771 100 False\n",
            "ERR250624.13508378 False -178 60849 100 True\n",
            "ERR250623.13016372 False 214 61045 100 False\n",
            "ERR250623.35245762 False 214 61045 100 False\n",
            "ERR250623.13016372 True -214 61159 100 True\n",
            "ERR250623.35245762 True -214 61159 100 True\n",
            "ERR250624.8230006 True 251 61431 100 False\n",
            "ERR250624.32655961 True 302 61450 87 False\n",
            "ERR250623.17375768 False 331 61528 100 False\n",
            "ERR250623.14725881 True 248 61577 100 False\n",
            "ERR250624.8230006 False -251 61582 100 True\n",
            "ERR250624.32655961 False -302 61652 100 True\n",
            "ERR250623.14725881 False -248 61725 100 True\n",
            "ERR250623.17375768 True -331 61759 100 True\n",
            "ERR250623.33848581 False 248 61900 100 False\n",
            "ERR250623.33848581 True -248 62048 100 True\n",
            "ERR250624.16290469 False 148 62126 100 False\n",
            "ERR250624.37383686 False 209 62167 100 False\n",
            "ERR250624.16290469 True -148 62174 100 True\n",
            "ERR250623.30121801 True 487 62269 100 False\n",
            "ERR250624.37383686 True -209 62276 100 True\n",
            "ERR250624.32441466 False 167 62534 100 False\n",
            "ERR250624.32441466 True -167 62601 100 True\n",
            "ERR250624.26942502 True 164 62614 100 False\n",
            "ERR250624.3212043 True 309 62624 100 False\n",
            "ERR250623.30121801 False -487 62656 100 True\n",
            "ERR250624.40919023 False 494 62672 100 False\n",
            "ERR250624.26942502 False -164 62678 100 True\n",
            "ERR250624.23523837 True 299 62692 100 False\n",
            "ERR250624.15625656 False 428 62742 100 False\n",
            "ERR250624.43727327 True 244 62822 100 False\n",
            "ERR250624.3212043 False -309 62833 100 True\n",
            "ERR250623.41578161 True 281 62882 100 False\n",
            "ERR250624.1404136 True 281 62882 100 False\n",
            "ERR250624.23523837 False -299 62891 100 True\n",
            "ERR250623.11501469 False 365 62914 100 False\n",
            "ERR250624.43727327 False -244 62966 100 True\n",
            "ERR250623.41578161 False -281 63063 100 True\n",
            "ERR250624.1404136 False -281 63063 100 True\n",
            "ERR250624.40919023 True -494 63066 100 True\n",
            "ERR250624.15625656 True -428 63070 100 True\n",
            "ERR250623.20654533 False 215 63128 100 False\n",
            "ERR250624.10480400 False 215 63128 100 False\n",
            "ERR250623.22544572 False 193 63164 100 False\n",
            "ERR250623.11501469 True -365 63179 100 True\n",
            "ERR250624.6355832 False 159 63192 100 False\n",
            "ERR250623.20654533 True -215 63243 100 True\n",
            "ERR250624.10480400 True -215 63243 100 True\n",
            "ERR250624.6355832 True -159 63251 100 True\n",
            "ERR250623.22544572 True -193 63257 100 True\n",
            "ERR250623.41274607 True 255 63314 89 False\n",
            "ERR250623.14511201 False 150 63346 100 False\n",
            "ERR250623.14511201 True -150 63396 100 True\n",
            "ERR250623.41274607 False -255 63469 100 True\n",
            "ERR250624.5937066 True 232 63533 100 False\n",
            "ERR250624.4963336 False 153 63541 100 False\n",
            "ERR250623.39123358 True 330 63575 100 False\n",
            "ERR250624.21160308 True 330 63575 100 False\n",
            "ERR250624.4963336 True -153 63594 100 True\n",
            "ERR250624.5937066 False -232 63665 100 True\n",
            "ERR250623.6435107 True 198 63680 100 False\n",
            "ERR250624.41621359 True 198 63680 100 False\n",
            "ERR250623.5886935 False 166 63697 100 False\n",
            "ERR250623.5886935 True -166 63763 100 True\n",
            "ERR250623.6435107 False -198 63778 100 True\n",
            "ERR250624.41621359 False -198 63778 100 True\n",
            "ERR250623.39123358 False -330 63805 100 True\n",
            "ERR250624.21160308 False -330 63805 100 True\n",
            "ERR250623.38927743 False 132 63872 100 False\n",
            "ERR250623.41178416 False 132 63872 100 False\n",
            "ERR250623.38927743 True -132 63904 100 True\n",
            "ERR250623.41178416 True -132 63904 100 True\n",
            "ERR250624.31256338 False 110 63913 100 False\n",
            "ERR250624.31256338 True -110 63923 100 True\n",
            "ERR250623.3723443 False 342 64064 100 False\n",
            "ERR250624.8676315 True 185 64225 100 False\n",
            "ERR250624.42603105 True 171 64258 100 False\n",
            "ERR250623.3723443 True -342 64306 100 True\n",
            "ERR250624.8676315 False -185 64310 100 True\n",
            "ERR250624.30349092 True 153 64313 100 False\n",
            "ERR250624.42603105 False -171 64329 100 True\n",
            "ERR250624.30349092 False -153 64366 100 True\n",
            "ERR250623.3217098 True 152 64858 100 False\n",
            "ERR250624.30687019 True 152 64858 100 False\n",
            "ERR250624.39369163 True 152 64858 100 False\n",
            "ERR250623.3217098 False -152 64910 100 True\n",
            "ERR250624.30687019 False -152 64910 100 True\n",
            "ERR250624.39369163 False -152 64910 100 True\n",
            "ERR250624.25993506 True 147 65015 100 False\n",
            "ERR250624.25993506 False -147 65062 100 True\n",
            "ERR250624.42106155 True 190 65093 100 False\n"
          ]
        }
      ],
      "source": [
        "import pysam\n",
        "i=0\n",
        "for read in pysam.AlignmentFile('/content/bwa_mapping/mapped_reads_chr11.sorted.bam'):\n",
        "  if i>100:\n",
        "    break\n",
        "  i+=1;\n",
        "  print(read.qname, read.is_read1, read.tlen, read.pos, read.reference_length, read.is_reverse)"
      ]
    },
    {
      "cell_type": "code",
      "execution_count": null,
      "metadata": {
        "id": "46r5pyCpSre3"
      },
      "outputs": [],
      "source": [
        "!gsutil ls gs://genomics-public-data\n",
        "!gsutil ls gs://genomics-public-data/resources/broad/hg38/v0"
      ]
    },
    {
      "cell_type": "code",
      "execution_count": null,
      "metadata": {
        "id": "4Yij1J89Swvm"
      },
      "outputs": [],
      "source": [
        "ibam = '/content/bwa_mapping/mapped_reads_chr11.sorted.bam'\n",
        "obam = '/content/bwa_mapping/mapped_reads_chr11.deduped.bam'\n",
        "\n",
        "!java -jar ./picard.jar MarkDuplicates I={ibam} O={obam} M=dup_metrics.txt\n",
        "\n",
        "!grep -A2 '## METRICS CLASS' dup_metrics.txt | grep -v '## METRICS CLASS' > report.tsv"
      ]
    },
    {
      "cell_type": "code",
      "execution_count": 18,
      "metadata": {
        "colab": {
          "base_uri": "https://localhost:8080/",
          "height": 81
        },
        "id": "bBtMgLqeXIGf",
        "outputId": "e4118550-9f63-47ee-a98b-0c571cfdf075"
      },
      "outputs": [
        {
          "output_type": "execute_result",
          "data": {
            "text/plain": [
              "           LIBRARY  UNPAIRED_READS_EXAMINED  READ_PAIRS_EXAMINED  \\\n",
              "0  Unknown Library                    39354              4418351   \n",
              "\n",
              "   SECONDARY_OR_SUPPLEMENTARY_RDS  UNMAPPED_READS  UNPAIRED_READ_DUPLICATES  \\\n",
              "0                            7130          353230                     21250   \n",
              "\n",
              "   READ_PAIR_DUPLICATES  READ_PAIR_OPTICAL_DUPLICATES  PERCENT_DUPLICATION  \\\n",
              "0                810258                             0             0.184966   \n",
              "\n",
              "   ESTIMATED_LIBRARY_SIZE  \n",
              "0                10523848  "
            ],
            "text/html": [
              "\n",
              "  <div id=\"df-816db48c-baea-4e82-a9a1-ff20b78ac327\" class=\"colab-df-container\">\n",
              "    <div>\n",
              "<style scoped>\n",
              "    .dataframe tbody tr th:only-of-type {\n",
              "        vertical-align: middle;\n",
              "    }\n",
              "\n",
              "    .dataframe tbody tr th {\n",
              "        vertical-align: top;\n",
              "    }\n",
              "\n",
              "    .dataframe thead th {\n",
              "        text-align: right;\n",
              "    }\n",
              "</style>\n",
              "<table border=\"1\" class=\"dataframe\">\n",
              "  <thead>\n",
              "    <tr style=\"text-align: right;\">\n",
              "      <th></th>\n",
              "      <th>LIBRARY</th>\n",
              "      <th>UNPAIRED_READS_EXAMINED</th>\n",
              "      <th>READ_PAIRS_EXAMINED</th>\n",
              "      <th>SECONDARY_OR_SUPPLEMENTARY_RDS</th>\n",
              "      <th>UNMAPPED_READS</th>\n",
              "      <th>UNPAIRED_READ_DUPLICATES</th>\n",
              "      <th>READ_PAIR_DUPLICATES</th>\n",
              "      <th>READ_PAIR_OPTICAL_DUPLICATES</th>\n",
              "      <th>PERCENT_DUPLICATION</th>\n",
              "      <th>ESTIMATED_LIBRARY_SIZE</th>\n",
              "    </tr>\n",
              "  </thead>\n",
              "  <tbody>\n",
              "    <tr>\n",
              "      <th>0</th>\n",
              "      <td>Unknown Library</td>\n",
              "      <td>39354</td>\n",
              "      <td>4418351</td>\n",
              "      <td>7130</td>\n",
              "      <td>353230</td>\n",
              "      <td>21250</td>\n",
              "      <td>810258</td>\n",
              "      <td>0</td>\n",
              "      <td>0.184966</td>\n",
              "      <td>10523848</td>\n",
              "    </tr>\n",
              "  </tbody>\n",
              "</table>\n",
              "</div>\n",
              "    <div class=\"colab-df-buttons\">\n",
              "\n",
              "  <div class=\"colab-df-container\">\n",
              "    <button class=\"colab-df-convert\" onclick=\"convertToInteractive('df-816db48c-baea-4e82-a9a1-ff20b78ac327')\"\n",
              "            title=\"Convert this dataframe to an interactive table.\"\n",
              "            style=\"display:none;\">\n",
              "\n",
              "  <svg xmlns=\"http://www.w3.org/2000/svg\" height=\"24px\" viewBox=\"0 -960 960 960\">\n",
              "    <path d=\"M120-120v-720h720v720H120Zm60-500h600v-160H180v160Zm220 220h160v-160H400v160Zm0 220h160v-160H400v160ZM180-400h160v-160H180v160Zm440 0h160v-160H620v160ZM180-180h160v-160H180v160Zm440 0h160v-160H620v160Z\"/>\n",
              "  </svg>\n",
              "    </button>\n",
              "\n",
              "  <style>\n",
              "    .colab-df-container {\n",
              "      display:flex;\n",
              "      gap: 12px;\n",
              "    }\n",
              "\n",
              "    .colab-df-convert {\n",
              "      background-color: #E8F0FE;\n",
              "      border: none;\n",
              "      border-radius: 50%;\n",
              "      cursor: pointer;\n",
              "      display: none;\n",
              "      fill: #1967D2;\n",
              "      height: 32px;\n",
              "      padding: 0 0 0 0;\n",
              "      width: 32px;\n",
              "    }\n",
              "\n",
              "    .colab-df-convert:hover {\n",
              "      background-color: #E2EBFA;\n",
              "      box-shadow: 0px 1px 2px rgba(60, 64, 67, 0.3), 0px 1px 3px 1px rgba(60, 64, 67, 0.15);\n",
              "      fill: #174EA6;\n",
              "    }\n",
              "\n",
              "    .colab-df-buttons div {\n",
              "      margin-bottom: 4px;\n",
              "    }\n",
              "\n",
              "    [theme=dark] .colab-df-convert {\n",
              "      background-color: #3B4455;\n",
              "      fill: #D2E3FC;\n",
              "    }\n",
              "\n",
              "    [theme=dark] .colab-df-convert:hover {\n",
              "      background-color: #434B5C;\n",
              "      box-shadow: 0px 1px 3px 1px rgba(0, 0, 0, 0.15);\n",
              "      filter: drop-shadow(0px 1px 2px rgba(0, 0, 0, 0.3));\n",
              "      fill: #FFFFFF;\n",
              "    }\n",
              "  </style>\n",
              "\n",
              "    <script>\n",
              "      const buttonEl =\n",
              "        document.querySelector('#df-816db48c-baea-4e82-a9a1-ff20b78ac327 button.colab-df-convert');\n",
              "      buttonEl.style.display =\n",
              "        google.colab.kernel.accessAllowed ? 'block' : 'none';\n",
              "\n",
              "      async function convertToInteractive(key) {\n",
              "        const element = document.querySelector('#df-816db48c-baea-4e82-a9a1-ff20b78ac327');\n",
              "        const dataTable =\n",
              "          await google.colab.kernel.invokeFunction('convertToInteractive',\n",
              "                                                    [key], {});\n",
              "        if (!dataTable) return;\n",
              "\n",
              "        const docLinkHtml = 'Like what you see? Visit the ' +\n",
              "          '<a target=\"_blank\" href=https://colab.research.google.com/notebooks/data_table.ipynb>data table notebook</a>'\n",
              "          + ' to learn more about interactive tables.';\n",
              "        element.innerHTML = '';\n",
              "        dataTable['output_type'] = 'display_data';\n",
              "        await google.colab.output.renderOutput(dataTable, element);\n",
              "        const docLink = document.createElement('div');\n",
              "        docLink.innerHTML = docLinkHtml;\n",
              "        element.appendChild(docLink);\n",
              "      }\n",
              "    </script>\n",
              "  </div>\n",
              "\n",
              "    </div>\n",
              "  </div>\n"
            ],
            "application/vnd.google.colaboratory.intrinsic+json": {
              "type": "dataframe",
              "summary": "{\n  \"name\": \"pd\",\n  \"rows\": 1,\n  \"fields\": [\n    {\n      \"column\": \"LIBRARY\",\n      \"properties\": {\n        \"dtype\": \"string\",\n        \"num_unique_values\": 1,\n        \"samples\": [\n          \"Unknown Library\"\n        ],\n        \"semantic_type\": \"\",\n        \"description\": \"\"\n      }\n    },\n    {\n      \"column\": \"UNPAIRED_READS_EXAMINED\",\n      \"properties\": {\n        \"dtype\": \"number\",\n        \"std\": null,\n        \"min\": 39354,\n        \"max\": 39354,\n        \"num_unique_values\": 1,\n        \"samples\": [\n          39354\n        ],\n        \"semantic_type\": \"\",\n        \"description\": \"\"\n      }\n    },\n    {\n      \"column\": \"READ_PAIRS_EXAMINED\",\n      \"properties\": {\n        \"dtype\": \"number\",\n        \"std\": null,\n        \"min\": 4418351,\n        \"max\": 4418351,\n        \"num_unique_values\": 1,\n        \"samples\": [\n          4418351\n        ],\n        \"semantic_type\": \"\",\n        \"description\": \"\"\n      }\n    },\n    {\n      \"column\": \"SECONDARY_OR_SUPPLEMENTARY_RDS\",\n      \"properties\": {\n        \"dtype\": \"number\",\n        \"std\": null,\n        \"min\": 7130,\n        \"max\": 7130,\n        \"num_unique_values\": 1,\n        \"samples\": [\n          7130\n        ],\n        \"semantic_type\": \"\",\n        \"description\": \"\"\n      }\n    },\n    {\n      \"column\": \"UNMAPPED_READS\",\n      \"properties\": {\n        \"dtype\": \"number\",\n        \"std\": null,\n        \"min\": 353230,\n        \"max\": 353230,\n        \"num_unique_values\": 1,\n        \"samples\": [\n          353230\n        ],\n        \"semantic_type\": \"\",\n        \"description\": \"\"\n      }\n    },\n    {\n      \"column\": \"UNPAIRED_READ_DUPLICATES\",\n      \"properties\": {\n        \"dtype\": \"number\",\n        \"std\": null,\n        \"min\": 21250,\n        \"max\": 21250,\n        \"num_unique_values\": 1,\n        \"samples\": [\n          21250\n        ],\n        \"semantic_type\": \"\",\n        \"description\": \"\"\n      }\n    },\n    {\n      \"column\": \"READ_PAIR_DUPLICATES\",\n      \"properties\": {\n        \"dtype\": \"number\",\n        \"std\": null,\n        \"min\": 810258,\n        \"max\": 810258,\n        \"num_unique_values\": 1,\n        \"samples\": [\n          810258\n        ],\n        \"semantic_type\": \"\",\n        \"description\": \"\"\n      }\n    },\n    {\n      \"column\": \"READ_PAIR_OPTICAL_DUPLICATES\",\n      \"properties\": {\n        \"dtype\": \"number\",\n        \"std\": null,\n        \"min\": 0,\n        \"max\": 0,\n        \"num_unique_values\": 1,\n        \"samples\": [\n          0\n        ],\n        \"semantic_type\": \"\",\n        \"description\": \"\"\n      }\n    },\n    {\n      \"column\": \"PERCENT_DUPLICATION\",\n      \"properties\": {\n        \"dtype\": \"number\",\n        \"std\": null,\n        \"min\": 0.184966,\n        \"max\": 0.184966,\n        \"num_unique_values\": 1,\n        \"samples\": [\n          0.184966\n        ],\n        \"semantic_type\": \"\",\n        \"description\": \"\"\n      }\n    },\n    {\n      \"column\": \"ESTIMATED_LIBRARY_SIZE\",\n      \"properties\": {\n        \"dtype\": \"number\",\n        \"std\": null,\n        \"min\": 10523848,\n        \"max\": 10523848,\n        \"num_unique_values\": 1,\n        \"samples\": [\n          10523848\n        ],\n        \"semantic_type\": \"\",\n        \"description\": \"\"\n      }\n    }\n  ]\n}"
            }
          },
          "metadata": {},
          "execution_count": 18
        }
      ],
      "source": [
        "import pandas as pd\n",
        "pd.read_csv('report.tsv', sep='\\t')\n"
      ]
    },
    {
      "cell_type": "markdown",
      "source": [
        "Procenat PCR duplikata = (810258 / 4418351) * 100 ≈ 18.32%\n",
        "\n",
        "Procenat optičkih duplikata = (0 / 4418351) * 100 = 0%"
      ],
      "metadata": {
        "id": "z4qukt64wIEq"
      }
    },
    {
      "cell_type": "code",
      "execution_count": null,
      "metadata": {
        "id": "TlO4igP6SzuY"
      },
      "outputs": [],
      "source": [
        "!gsutil cp gs://genomics-public-data/resources/broad/hg38/v0/Homo_sapiens_assembly38.dbsnp138.vcf .\n",
        "!gsutil cp gs://genomics-public-data/resources/broad/hg38/v0/Homo_sapiens_assembly38.dbsnp138.vcf.idx .\n",
        "\n",
        "!gsutil cp gs://genomics-public-data/resources/broad/hg38/v0/Homo_sapiens_assembly38.fasta .\n",
        "!gsutil cp gs://genomics-public-data/resources/broad/hg38/v0/Homo_sapiens_assembly38.fasta.fai .\n",
        "!gsutil cp gs://genomics-public-data/resources/broad/hg38/v0/Homo_sapiens_assembly38.dict ."
      ]
    },
    {
      "cell_type": "code",
      "source": [
        "!wget https://storage.googleapis.com/genomics-public-data/resources/broad/hg38/v0/Homo_sapiens_assembly38.dbsnp138.vcf"
      ],
      "metadata": {
        "id": "d_Hl6Ayfxuxp"
      },
      "execution_count": null,
      "outputs": []
    },
    {
      "cell_type": "code",
      "source": [
        "gatk = 'java -jar /content/bwa_mapping/gatk-4.1.4.1/gatk-package-4.1.4.1-local.jar'\n",
        "\n",
        "input_bam = '/content/bwa_mapping/mapped_reads_chr11.deduped.bam'\n",
        "output_bam = '/content/bwa_mapping/mapped_reads_chr11.with_rg.bam'\n",
        "\n",
        "!{gatk} AddOrReplaceReadGroups \\\n",
        "    -I {input_bam} \\\n",
        "    -O {output_bam} \\\n",
        "    -RGID 1 \\\n",
        "    -RGLB lib1 \\\n",
        "    -RGPL illumina \\\n",
        "    -RGPU unit1 \\\n",
        "    -RGSM sample\n",
        "\n",
        "!samtools view -H {output_bam}"
      ],
      "metadata": {
        "id": "JRsmxmXBzQBN",
        "collapsed": true
      },
      "execution_count": null,
      "outputs": []
    },
    {
      "cell_type": "code",
      "source": [
        "ibam = '/content/bwa_mapping/mapped_reads_chr11.with_rg.bam'\n",
        "obam = '/content/bwa_mapping/mapped_reads_chr11.recalibrated.bam'\n",
        "recal = '/content/bwa_mapping/mapped_reads_chr11.recal.table'\n",
        "\n",
        "dbsnp = '/content/bwa_mapping/Homo_sapiens_assembly38.dbsnp138.vcf'\n",
        "ref = '/content/bwa_mapping/Homo_sapiens_assembly38.fasta'\n",
        "\n",
        "gatk = 'java -jar /content/bwa_mapping/gatk-4.1.4.1/gatk-package-4.1.4.1-local.jar'"
      ],
      "metadata": {
        "id": "vHPdtB7B1Lqd"
      },
      "execution_count": 22,
      "outputs": []
    },
    {
      "cell_type": "code",
      "execution_count": null,
      "metadata": {
        "id": "ChSmfyiFsHKj",
        "collapsed": true
      },
      "outputs": [],
      "source": [
        "!{gatk} BaseRecalibrator -I {ibam} --known-sites {dbsnp} -O {recal} --reference {ref}"
      ]
    },
    {
      "cell_type": "code",
      "source": [
        "!{gatk} ApplyBQSR -I {ibam} -bqsr {recal} -O {obam}"
      ],
      "metadata": {
        "collapsed": true,
        "id": "grEFLn_F1VlO"
      },
      "execution_count": null,
      "outputs": []
    },
    {
      "cell_type": "code",
      "source": [
        "post_recal = '/content/bwa_mapping/mapped_reads_chr11.recal.table'\n",
        "!{gatk} BaseRecalibrator -I {obam} --known-sites {dbsnp} -O {post_recal} --reference {ref}"
      ],
      "metadata": {
        "collapsed": true,
        "id": "KZdht0jP3Tmx"
      },
      "execution_count": null,
      "outputs": []
    },
    {
      "cell_type": "code",
      "source": [
        "!{gatk} AnalyzeCovariates -before {recal} -after {post_recal} -plots 'compare.pdf'"
      ],
      "metadata": {
        "collapsed": true,
        "id": "ZyCVxrno3cA6"
      },
      "execution_count": null,
      "outputs": []
    },
    {
      "cell_type": "markdown",
      "metadata": {
        "id": "B_aNJkWRCBmy"
      },
      "source": [
        "#4. [4 boda]\n",
        "Identifikovati mutacije upotrebom alata Haplotype Caller i filtirtati mutacije predefinisanim filterima (hard filtering) prema Broad preporukama (kao što je rađeno na vežbama).\n",
        "\n",
        " 4a. Koliko je ukupno mutacija identifikovano, koliko od njih su SNP-ovi, a koliko INDEL-i?\n",
        "\n",
        " 4b. Koliko mutacija prolazi, a koliko ne prolazi kriterijume filtriranja.\n",
        "\n",
        " 4c. Izračunati Ti/Tv odnos pre i posle filtriranja."
      ]
    },
    {
      "cell_type": "code",
      "execution_count": null,
      "metadata": {
        "id": "rAjuNvdT4BIE"
      },
      "outputs": [],
      "source": [
        "dbsnp = '/content/bwa_mapping/Homo_sapiens_assembly38.dbsnp138.vcf'\n",
        "ref = '/content/bwa_mapping/Homo_sapiens_assembly38.fasta'\n",
        "\n",
        "ibam = '/content/bwa_mapping/mapped_reads_chr11.recalibrated.bam'\n",
        "ovcf = '/content/bwa_mapping/mapped_reads_chr11.vcf'\n",
        "\n",
        "!{gatk} HaplotypeCaller --input {ibam} --output {ovcf} --reference {ref} --dbsnp {dbsnp} -L chr11"
      ]
    },
    {
      "cell_type": "code",
      "execution_count": 28,
      "metadata": {
        "id": "_Fek95nNUbd3"
      },
      "outputs": [],
      "source": [
        "def is_filtered(variant):\n",
        "  return 'PASS' not in variant.filter\n",
        "\n",
        "def is_snp(variant):\n",
        "  return len(variant.ref) == 1 and len(variant.alts[0]) == 1\n",
        "\n",
        "def is_transitions(variant):\n",
        "  allels = set((variant.ref, variant.alts[0]))\n",
        "  return allels == {'A', 'G'} or allels == {'C', 'T'}\n",
        "\n",
        "ti = sum(1 for v in pysam.VariantFile(ovcf) \\\n",
        "         if is_snp(v)\\\n",
        "         and is_transitions(v))\n",
        "\n",
        "tv = sum(1 for v in pysam.VariantFile(ovcf) \\\n",
        "          if is_snp(v) \\\n",
        "          and not is_transitions(v))"
      ]
    },
    {
      "cell_type": "code",
      "source": [
        "print('Pre filtriranja:')\n",
        "\n",
        "ovcf = '/content/bwa_mapping/mapped_reads_chr11.vcf'\n",
        "\n",
        "snp_num = sum(1 for v in pysam.VariantFile(ovcf) if is_snp(v))\n",
        "indel_num = sum(1 for v in pysam.VariantFile(ovcf) if not is_snp(v))\n",
        "total_mut = snp_num+indel_num\n",
        "\n",
        "ti = sum(1 for v in pysam.VariantFile(ovcf) \\\n",
        "         if is_snp(v)\\\n",
        "         and is_transitions(v))\n",
        "\n",
        "tv = sum(1 for v in pysam.VariantFile(ovcf) \\\n",
        "          if is_snp(v) \\\n",
        "          and not is_transitions(v))\n",
        "\n",
        "print('Broj mutacija: ', total_mut)\n",
        "print('\\t Od kojih SNP: ', snp_num, 'a INDEL: ', indel_num)\n",
        "\n",
        "print('Ti/Tv', ti/tv)"
      ],
      "metadata": {
        "colab": {
          "base_uri": "https://localhost:8080/"
        },
        "id": "Jvk9wLnMBUby",
        "outputId": "c5e64c60-ac8e-4a2b-8b47-ef79e18a7087"
      },
      "execution_count": 29,
      "outputs": [
        {
          "output_type": "stream",
          "name": "stdout",
          "text": [
            "Pre filtriranja:\n",
            "Broj mutacija:  72094\n",
            "\t Od kojih SNP:  64812 a INDEL:  7282\n",
            "Ti/Tv 1.9675824175824175\n"
          ]
        }
      ]
    },
    {
      "cell_type": "code",
      "source": [
        "gatk = 'java -jar gatk-4.1.4.1/gatk-package-4.1.4.1-local.jar'\n",
        "\n",
        "snp_f = \"QD < 2.0 || FS > 60.0 || MQ < 40.0 || MQRankSum < -12.5 || ReadPosRankSum < -8.0\"\n",
        "indel_f = \"QD < 2.0 || FS > 200.0 || ReadPosRankSum < -20.0\"\n",
        "\n",
        "ref = '/content/bwa_mapping/Homo_sapiens_assembly38.fasta'\n",
        "\n",
        "ivcf = '/content/bwa_mapping/mapped_reads_chr11.vcf'\n",
        "isvcf = '/content/bwa_mapping/mapped_reads_chr11.snp.vcf'\n",
        "iivcf = '/content/bwa_mapping/mapped_reads_chr11.indel.vcf'\n",
        "\n",
        "ovcf = '/content/bwa_mapping/mapped_reads_chr11.filtered.vcf'\n",
        "osvcf = '/content/bwa_mapping/mapped_reads_chr11.snp.filtered.vcf'\n",
        "oivcf = '/content/bwa_mapping/mapped_reads_chr11.filtered.indel.filtered.vcf'"
      ],
      "metadata": {
        "id": "IamSQXj4DGeA"
      },
      "execution_count": 30,
      "outputs": []
    },
    {
      "cell_type": "code",
      "source": [
        "!{gatk} SelectVariants -R {ref} -V {ivcf} -O {isvcf} --select-type-to-include SNP\n",
        "!{gatk} VariantFiltration -R {ref} -V {isvcf} -O {osvcf} -filter \"{snp_f}\" --filter-name \"snp\"\n",
        "\n",
        "!{gatk} SelectVariants -R {ref} -V {ivcf} -O {iivcf} --select-type-to-include INDEL\n",
        "!{gatk} VariantFiltration -R {ref} -V {iivcf} -O {oivcf} -filter \"{indel_f}\" --filter-name \"indel\"\n",
        "\n",
        "!{gatk} MergeVcfs -I {osvcf} -I {oivcf} -O {ovcf}"
      ],
      "metadata": {
        "collapsed": true,
        "id": "vD5-WqBbDLPs"
      },
      "execution_count": null,
      "outputs": []
    },
    {
      "cell_type": "code",
      "source": [
        "print('Posle filtriranja:')\n",
        "\n",
        "ovcf = '/content/bwa_mapping/mapped_reads_chr11.filtered.vcf'\n",
        "\n",
        "snp_num_f = sum(1 for v in pysam.VariantFile(ovcf) if is_filtered(v) and is_snp(v))\n",
        "indel_num_f = sum(1 for v in pysam.VariantFile(ovcf) if is_filtered(v) and not is_snp(v))\n",
        "total_filtered = snp_num_f+indel_num_f\n",
        "\n",
        "ti = sum(1 for v in pysam.VariantFile(ovcf) \\\n",
        "         if not is_filtered(v) \\\n",
        "         and is_snp(v)\\\n",
        "         and is_transitions(v))\n",
        "\n",
        "tv = sum(1 for v in pysam.VariantFile(ovcf) \\\n",
        "          if not is_filtered(v) \\\n",
        "          and is_snp(v) \\\n",
        "          and not is_transitions(v))\n",
        "\n",
        "print('Broj mutacija koje nisu prosle filtriranje: ', total_mut-total_filtered)\n",
        "\n",
        "print('Ti/Tv', ti/tv)"
      ],
      "metadata": {
        "colab": {
          "base_uri": "https://localhost:8080/"
        },
        "id": "onTfNgyBCPHD",
        "outputId": "7c8ce616-2a3b-476c-934f-58941b6d966f"
      },
      "execution_count": 32,
      "outputs": [
        {
          "output_type": "stream",
          "name": "stdout",
          "text": [
            "Posle filtriranja:\n",
            "Broj mutacija koje nisu prosle filtriranje:  71376\n",
            "Ti/Tv 1.974741623024517\n"
          ]
        }
      ]
    },
    {
      "cell_type": "markdown",
      "metadata": {
        "id": "mwdcCFGECKMf"
      },
      "source": [
        "#5. [3 boda]\n",
        "Anotirati mutacije alatom Funcotator\n",
        "\n",
        " 5a. Izbrojati različite vrednosti ClinVar značajnosti (anotacija *ClinVar_VCF_CLNSIG*, koliko mutacija je označeno kao *Benign*, *Likely_benign*, itd.)."
      ]
    },
    {
      "cell_type": "code",
      "execution_count": null,
      "metadata": {
        "id": "jjLuskaW56dw",
        "collapsed": true
      },
      "outputs": [],
      "source": [
        "!{gatk} FuncotatorDataSourceDownloader --germline --extract-after-download"
      ]
    },
    {
      "cell_type": "code",
      "execution_count": null,
      "metadata": {
        "id": "aZvCJC8Etgze"
      },
      "outputs": [],
      "source": [
        "!cp \"/content/drive/MyDrive/funcotator-funcotator_dataSources.v1.6.20190124g.tar.gz\" .\n",
        "!tar -xzf \"funcotator-funcotator_dataSources.v1.6.20190124g.tar.gz\""
      ]
    },
    {
      "cell_type": "code",
      "execution_count": null,
      "metadata": {
        "id": "rrlKdgK5mQ4Z",
        "collapsed": true
      },
      "outputs": [],
      "source": [
        "ivcf = '/content/bwa_mapping/mapped_reads_chr11.filtered.vcf'\n",
        "ovcf = '/content/bwa_mapping/mapped_reads_chr11.annoted.vcf'\n",
        "func = 'funcotator_dataSources.v1.6.20190124g/'\n",
        "\n",
        "!{gatk} Funcotator -O {ovcf} --ref-version hg38 -R {ref} -V {ivcf} --output-file-format VCF --data-sources-path {func}"
      ]
    },
    {
      "cell_type": "code",
      "execution_count": null,
      "metadata": {
        "id": "w_IupYUr_NKv"
      },
      "outputs": [],
      "source": [
        "import pysam\n",
        "ovcf = '/content/bwa_mapping/mapped_reads_chr11.annoted.vcf'\n",
        "\n",
        "reader = pysam.VariantFile(ovcf)\n",
        "description = reader.header.info['FUNCOTATION'].description\n",
        "print(description)\n",
        "functotations = description[73:].split('|')"
      ]
    },
    {
      "cell_type": "code",
      "execution_count": 37,
      "metadata": {
        "id": "2pujoFR__SMd",
        "colab": {
          "base_uri": "https://localhost:8080/"
        },
        "outputId": "d049dee3-8ad0-4470-94da-7dc7442b3880"
      },
      "outputs": [
        {
          "output_type": "stream",
          "name": "stdout",
          "text": [
            "\n",
            "{'': 71629, 'Benign': 300, 'Uncertain_significance': 10, 'Benign/Likely_benign': 71, 'Likely_benign': 54, 'Conflicting_interpretations_of_pathogenicity': 5, 'not_provided': 6, 'Benign/Likely_benign_%2C__drug_response_%2C__risk_factor': 1, 'Pathogenic': 1, 'association': 6, 'Benign_%2C__risk_factor': 1, 'drug_response': 1, 'risk_factor': 2}\n"
          ]
        }
      ],
      "source": [
        "import pysam\n",
        "\n",
        "ovcf = '/content/bwa_mapping/mapped_reads_chr11.annoted.vcf'\n",
        "\n",
        "clinvar_counts = {}\n",
        "\n",
        "with open(ovcf, 'r', encoding='utf-8', errors='ignore') as file:\n",
        "    vcf = pysam.VariantFile(file)\n",
        "    for variant in vcf:\n",
        "        try:\n",
        "            ann = {x:y for x, y in zip(functotations, variant.info['FUNCOTATION'][0][1:-1].split('|'))}\n",
        "            clinvar_annotation = ann['ClinVar_VCF_CLNSIG']\n",
        "            if clinvar_annotation in clinvar_counts:\n",
        "                clinvar_counts[clinvar_annotation] += 1\n",
        "            else:\n",
        "                clinvar_counts[clinvar_annotation] = 1\n",
        "        except Exception as e:\n",
        "            print(\"\")\n",
        "\n",
        "print(clinvar_counts)"
      ]
    },
    {
      "cell_type": "markdown",
      "metadata": {
        "id": "S53Zf6vlCPVT"
      },
      "source": [
        "#6. [4 boda]\n",
        "Svi uzorici sadrže određenu količinu kontaminacije DNK materijalom bakterijskog ili virusnog porekla. Većina ovakvih readova se neće mapirati na ljudski genom. Izvući readove koji nisu mapirani u procesu mapiranja, asemblovati ih alatom abyss, i identifikovati organizam od kojeg potiče najduži skafold upotrebom alata Blast."
      ]
    },
    {
      "cell_type": "code",
      "execution_count": null,
      "metadata": {
        "id": "YBo698Uv4L0r"
      },
      "outputs": [],
      "source": [
        "!git clone https://github.com/sparsehash/sparsehash.git\n",
        "!cd sparsehash && ./configure\n",
        "!cd sparsehash && make\n",
        "!cd sparsehash && sudo make install\n",
        "\n",
        "!sudo apt-get install autotools-dev automake\n",
        "!git clone https://github.com/bcgsc/abyss.git\n",
        "!cd abyss && ./autogen.sh\n",
        "!cd abyss && ./configure\n",
        "!cd abyss && make\n",
        "!cd abyss && sudo make install\n",
        "\n",
        "!sudo apt-get install abyss"
      ]
    },
    {
      "cell_type": "code",
      "execution_count": null,
      "metadata": {
        "id": "SSjwfy3pajRL"
      },
      "outputs": [],
      "source": [
        "%%time\n",
        "from time import time"
      ]
    },
    {
      "cell_type": "code",
      "source": [
        "!samtools view -b -f 4 mapped_reads_chr11.sorted.bam > unmapped_reads.bam\n",
        "\n",
        "!samtools fastq unmapped_reads.bam -1 unmapped_reads_1.fq -2 unmapped_reads_2.fq -0 /dev/null -s /dev/null -n"
      ],
      "metadata": {
        "id": "XqJ3AcrQJTR1"
      },
      "execution_count": null,
      "outputs": []
    },
    {
      "cell_type": "code",
      "source": [
        "!abyss-pe k=64 name=assembly in='unmapped_reads_1.fq unmapped_reads_2.fq'"
      ],
      "metadata": {
        "id": "jnjZ6a7fJumI"
      },
      "execution_count": null,
      "outputs": []
    },
    {
      "cell_type": "code",
      "source": [
        "import pysam\n",
        "\n",
        "freader = pysam.FastaFile('assembly-contigs.fa')\n",
        "\n",
        "max_ref = sorted(zip(freader.lengths, freader.references), reverse=True)[0]\n",
        "\n",
        "longest_scaffold = freader.fetch(max_ref[1])\n",
        "\n",
        "print(f'Najduži skafold: {max_ref[1]} sa dužinom {max_ref[0]}')\n",
        "print(f'Sekvenca:\\n{longest_scaffold}')"
      ],
      "metadata": {
        "colab": {
          "base_uri": "https://localhost:8080/"
        },
        "id": "eYVmvr1cK-cU",
        "outputId": "1e490587-18a8-4eaf-8bae-3b459a332059"
      },
      "execution_count": 44,
      "outputs": [
        {
          "output_type": "stream",
          "name": "stdout",
          "text": [
            "Najduži skafold: 12172 sa dužinom 3220\n",
            "Sekvenca:\n",
            "GTTTTCGCTTCATTTAGTTGTGCTTTATAATGTGCTTTAGATGAAGCCGATAACTGTTTTAATTGCTCAATTTGACGAATTGCTTTGTCAACTTTGTCTAATAAATCTTGCTTAGATAATATCTCTTTTGAAATTTCAGTATCCTTTTCAGATGCAGCTTGGGCATCGTACGGCAAGATATTCGTTAAAATGATACTTGTCGCCATCATTGTCGAACACGATAACTTTACATATAATTGAAACGATTTCCCTCGATATTTAGCCATCAACATACTCCTTTCTCACTTACTTCCTTCAAAGAATTACATACTATTATATACCTGTTTACAAGAAATTTACACTTATCTATCTAGTTATTGTTGTTAGTAATTATCCACTTATTACTTAGCTTATATTTAAGTAAACAAAAAAGCATGACGTAATATCATATTGTCCATGTCGCTAACATCATATTACGTCAAATCTTTTATATTAAATGATGTTTTATTTTAGACTGCTTTTTCTTTTTAGCTTTCGAGCGCCTGTTTAAAAACTTGCTCGAATTGTTCACGCGAGATTTCGTGTGCATGTGCTTTTTGTGCTAATAAAGCATCTCGAAACTGTTGTTGATCTTTCAAACTCTCTAACATTTGTATTAATTGGTCTTTACTTTCCATTGTTATCTCATCATTATGCTCAAATAAGTGCTCTGATAATGTTACTTTAGCATGGTGTGCGGTTTGACGATAACCTAAAATCAACAACTCATAGTCAAACGCTTGTTCCACCGCATTTAAAATTTCATTACCCTCATTAATATCAAGATAAATATCACATAACTGGTATAGTTCATTTACCCTATCTATATTAATAGATGGGTATAAGTACACATTAGCATATTGATCAAGTTGAATTAACTTATCAGACATCTCTGTAATAGCAGCGATGTGAAAATTAAAATCTGGTAAAGTTTCAACCAATACCTTGATGTTACGAAGTTGATCCGAGTTAGTTAATATTACAATTTCTTTAGTATATCTATTACGACTACGATAGTTATATAGATATCCACCTTGTAAAATACGAGATTGAACCTTTGCGTCTGCTATATTGAGCATCGTTTCATATTCGTTTTTATCTGGAATAATAATATTACAATGTCGTTTCATATCACCTTTACACATCAATTGCATATTTCCTGGGACATTACCATCGCACTTTTCTTGCCATACCAAAACATCACTACCATTTGATGGCAAATTATATAACACTGAAAATGGTAGGGCTAGTGAGTTAATAACGAAATGATGTTCCGTAATTTCAAGTTGCTTGATAAAAAATAATACGAATGCGAGCTTTGAAGGGAAAAAGTAAGACTTCCCTTGCCAATCCAATATGACATCAGATGTTACAAAATTTTCATAAATCACTTCTTTACCTTCTGCTGTCATATATTTCTTCAAGATCGCTTTACGATTTAAATCGTAAACAGTTTGTGCAAATTTAATACCATTCTTAGAATAATAATCGACAAATCGGACACGTTGTTGGTCATCAAACCATTCGACACGACTAACAATTCTAGGGCGCTCTCCACTTTGATAAAACATTTTGCCTCGTAGACGTCCCATATCATTAATTGTAGCCGAATTGTTGTTACCTTTAATTTCCCAAAAAGCTGGTACAGTAACCTGATTAAAAAATCGTGGTTTCATATTTTCTGTATTATGATTATCTGCAAAAAATTGATACGGTGATATAACATCGTCCGGTAAAAAGCCATTGTCATTGAGTACAATTGTTAAATCTTCTTCCAACTTACTGGCTTTAAAAGACTCATATAACTTTCGTGAATGATCGTTAAAGTAATCAAATAATTTAATCATGCAGCACCTCTTGAACTAATGTTTCCCATTTTAAAATAATATCTTGAGTCATAAATTGCTGTGCCACTTCATAAGAGATGTCATGTGGTGTCTGGGGACCATTGTTAAAATACATTACAATGGCATGAGCTAGTTTTGCGACAACATCATCCACACTATCTTCATCGGTATCAAAAGGTACCAAGTAGCCATTTTCCCCATCTCGAATAAAGGTTGGGTTACCATAATTCACATTTAATCCAATCATACCTAGTCCTGAGCCTACCGCTTCCATTAGTGTTAACCCAAAACCTTCGCTAGTTGATGCAGAAAGAAATAACTCATAATCATTATAAATTTCATCAAGTTTAACATGCCCTAGTAAACGAATATAATCTTGTGCGCGGTGTGTATCAATAATTTTACGCAGTCGCGTCTTCTCGCTACCTTCTCCATAAATATCAAATGTTAATTCTGGCACTTGTCGTTTAGCCACGATAACCGCTTTGACAAGCCAATCAATATGTTTCTCATTTGCTAAACGAGATGCACTAATCATCGCATATGGCTTTCTTGATAATGTTGGATATGATAATGCATCAATGCTTCCCACAGGAATAGTATAAACACGTGGGCGATAACCTTGATATTGCTCAAATTGTCGACAAACCATATGATTTTGAATATCTGTTGCTGTAATAAAGAAATCAATGTATTTAGCTTTTGAAAATTGATATTCATAATAATTGTTCCATAGTATATGCTGCTCACTCATCATATTATTACTATAATGATCAGTATGAATCACAACACCAACTTTACTATCACCTTTATGCTGCAAAACAGCCTGACCAATATCAGAAGCGCGGTCTAATATGACAATATCGTCTCGGGTTAAATTCAATCGTTGTAAAAAGTATGCAATAAATTCGGTTTTGTTATACAACACCGCATCTTCAAACACATATATAGAGCTGTCTCCATCAATATATTCGTTATAAGCGATGGAACCATCTTCATTATAGAATTGTCGCATATACAATTTCGCTTTATTATCAGCTGGTGCATAATACTCAGAAAATATACGCGTATAACTATAAAAATCTTTACGTACTAACATACTATTAATTACAAATTCTGCACGATCCACAACATCTTTTTGTTCATTTTGTAGATAACATGTTACAAATGATGATTTCCCATTAAAATATAGACGGACTATCTTACCATTTCTTTCTCTAAAACTAATATCATGACCAAGCTCACGTTCAATGTCATCTAACGTGTACGTTGTTGGTGCTATAGAAATATCACTAAAATCTGTCTCTTATACACATCTCCGAGCCCACGAGACGCTACGCTATCTCGTATGCCGT\n"
          ]
        }
      ]
    },
    {
      "cell_type": "markdown",
      "source": [
        "[Blast](https://blast.ncbi.nlm.nih.gov/Blast.cgi?PROGRAM=blastn&PAGE_TYPE=BlastSearch&LINK_LOC=blasthome)\n",
        "\n",
        "Dobijeni rezultat: *Staphylococcus aureus strain UP_274 chromosome, complete genome*"
      ],
      "metadata": {
        "id": "ihNm4hkULNvv"
      }
    }
  ],
  "metadata": {
    "accelerator": "GPU",
    "colab": {
      "collapsed_sections": [
        "r2A1iVySBgXJ"
      ],
      "gpuType": "T4",
      "provenance": []
    },
    "kernelspec": {
      "display_name": "Python 3",
      "name": "python3"
    },
    "language_info": {
      "name": "python"
    }
  },
  "nbformat": 4,
  "nbformat_minor": 0
}